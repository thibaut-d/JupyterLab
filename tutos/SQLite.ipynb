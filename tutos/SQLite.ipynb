{
 "cells": [
  {
   "cell_type": "code",
   "execution_count": 1,
   "metadata": {},
   "outputs": [],
   "source": [
    "import Pkg\n",
    "using SQLite\n",
    "using DataFrames"
   ]
  },
  {
   "cell_type": "code",
   "execution_count": 2,
   "metadata": {},
   "outputs": [
    {
     "data": {
      "text/plain": [
       "SQLite.DB(\"SQLite.db\")"
      ]
     },
     "execution_count": 2,
     "metadata": {},
     "output_type": "execute_result"
    }
   ],
   "source": [
    "# Create a database\n",
    "db = SQLite.DB(\"SQLite.db\")"
   ]
  },
  {
   "cell_type": "code",
   "execution_count": 3,
   "metadata": {},
   "outputs": [
    {
     "data": {
      "text/html": [
       "<table class=\"data-frame\"><thead><tr><th></th><th>name</th></tr><tr><th></th><th>Any</th></tr></thead><tbody><p>0 rows × 1 columns</p></tbody></table>"
      ],
      "text/latex": [
       "\\begin{tabular}{r|c}\n",
       "\t& name\\\\\n",
       "\t\\hline\n",
       "\t& Any\\\\\n",
       "\t\\hline\n",
       "\\end{tabular}\n"
      ],
      "text/plain": [
       "0×1 DataFrame\n"
      ]
     },
     "execution_count": 3,
     "metadata": {},
     "output_type": "execute_result"
    }
   ],
   "source": [
    "SQLite.tables(db)"
   ]
  },
  {
   "cell_type": "code",
   "execution_count": 4,
   "metadata": {},
   "outputs": [
    {
     "data": {
      "text/plain": [
       "SQLite.Stmt(SQLite.DB(\"SQLite.db\"), Ptr{Nothing} @0x000000000282f528, Dict{Int64,Any}())"
      ]
     },
     "execution_count": 4,
     "metadata": {},
     "output_type": "execute_result"
    }
   ],
   "source": [
    "create_table = SQLite.Stmt(db, \"\"\"\n",
    "    CREATE TABLE materials (\n",
    "        name VARCHAR(30) PRIMARY KEY ASC, \n",
    "        alias VARCHAR(1000), \n",
    "        description TEXT, \n",
    "        Re FLOAT, \n",
    "        Rm FLOAT\n",
    "    );\"\"\"\n",
    ")"
   ]
  },
  {
   "cell_type": "code",
   "execution_count": 5,
   "metadata": {},
   "outputs": [
    {
     "data": {
      "text/plain": [
       "101"
      ]
     },
     "execution_count": 5,
     "metadata": {},
     "output_type": "execute_result"
    }
   ],
   "source": [
    "SQLite.execute!(create_table)"
   ]
  },
  {
   "cell_type": "code",
   "execution_count": 6,
   "metadata": {},
   "outputs": [
    {
     "data": {
      "text/html": [
       "<table class=\"data-frame\"><thead><tr><th></th><th>name</th></tr><tr><th></th><th>String⍰</th></tr></thead><tbody><p>1 rows × 1 columns</p><tr><th>1</th><td>materials</td></tr></tbody></table>"
      ],
      "text/latex": [
       "\\begin{tabular}{r|c}\n",
       "\t& name\\\\\n",
       "\t\\hline\n",
       "\t& String⍰\\\\\n",
       "\t\\hline\n",
       "\t1 & materials \\\\\n",
       "\\end{tabular}\n"
      ],
      "text/plain": [
       "1×1 DataFrame\n",
       "│ Row │ name      │\n",
       "│     │ \u001b[90mString⍰\u001b[39m   │\n",
       "├─────┼───────────┤\n",
       "│ 1   │ materials │"
      ]
     },
     "execution_count": 6,
     "metadata": {},
     "output_type": "execute_result"
    }
   ],
   "source": [
    "SQLite.tables(db)"
   ]
  },
  {
   "cell_type": "code",
   "execution_count": 7,
   "metadata": {},
   "outputs": [
    {
     "data": {
      "text/html": [
       "<table class=\"data-frame\"><thead><tr><th></th><th>cid</th><th>name</th><th>type</th><th>notnull</th><th>dflt_value</th><th>pk</th></tr><tr><th></th><th>Int64⍰</th><th>String⍰</th><th>String⍰</th><th>Int64⍰</th><th>Any</th><th>Int64⍰</th></tr></thead><tbody><p>5 rows × 6 columns</p><tr><th>1</th><td>0</td><td>name</td><td>VARCHAR(30)</td><td>0</td><td>missing</td><td>1</td></tr><tr><th>2</th><td>1</td><td>alias</td><td>VARCHAR(1000)</td><td>0</td><td>missing</td><td>0</td></tr><tr><th>3</th><td>2</td><td>description</td><td>TEXT</td><td>0</td><td>missing</td><td>0</td></tr><tr><th>4</th><td>3</td><td>Re</td><td>FLOAT</td><td>0</td><td>missing</td><td>0</td></tr><tr><th>5</th><td>4</td><td>Rm</td><td>FLOAT</td><td>0</td><td>missing</td><td>0</td></tr></tbody></table>"
      ],
      "text/latex": [
       "\\begin{tabular}{r|cccccc}\n",
       "\t& cid & name & type & notnull & dflt\\_value & pk\\\\\n",
       "\t\\hline\n",
       "\t& Int64⍰ & String⍰ & String⍰ & Int64⍰ & Any & Int64⍰\\\\\n",
       "\t\\hline\n",
       "\t1 & 0 & name & VARCHAR(30) & 0 &  & 1 \\\\\n",
       "\t2 & 1 & alias & VARCHAR(1000) & 0 &  & 0 \\\\\n",
       "\t3 & 2 & description & TEXT & 0 &  & 0 \\\\\n",
       "\t4 & 3 & Re & FLOAT & 0 &  & 0 \\\\\n",
       "\t5 & 4 & Rm & FLOAT & 0 &  & 0 \\\\\n",
       "\\end{tabular}\n"
      ],
      "text/plain": [
       "5×6 DataFrame\n",
       "│ Row │ cid    │ name        │ type          │ notnull │ dflt_value │ pk     │\n",
       "│     │ \u001b[90mInt64⍰\u001b[39m │ \u001b[90mString⍰\u001b[39m     │ \u001b[90mString⍰\u001b[39m       │ \u001b[90mInt64⍰\u001b[39m  │ \u001b[90mAny\u001b[39m        │ \u001b[90mInt64⍰\u001b[39m │\n",
       "├─────┼────────┼─────────────┼───────────────┼─────────┼────────────┼────────┤\n",
       "│ 1   │ 0      │ name        │ VARCHAR(30)   │ 0       │ \u001b[90mmissing\u001b[39m    │ 1      │\n",
       "│ 2   │ 1      │ alias       │ VARCHAR(1000) │ 0       │ \u001b[90mmissing\u001b[39m    │ 0      │\n",
       "│ 3   │ 2      │ description │ TEXT          │ 0       │ \u001b[90mmissing\u001b[39m    │ 0      │\n",
       "│ 4   │ 3      │ Re          │ FLOAT         │ 0       │ \u001b[90mmissing\u001b[39m    │ 0      │\n",
       "│ 5   │ 4      │ Rm          │ FLOAT         │ 0       │ \u001b[90mmissing\u001b[39m    │ 0      │"
      ]
     },
     "execution_count": 7,
     "metadata": {},
     "output_type": "execute_result"
    }
   ],
   "source": [
    "SQLite.columns(db,\"materials\")"
   ]
  },
  {
   "cell_type": "code",
   "execution_count": 8,
   "metadata": {},
   "outputs": [
    {
     "data": {
      "text/plain": [
       "SQLite.Stmt(SQLite.DB(\"SQLite.db\"), Ptr{Nothing} @0x0000000003835268, Dict{Int64,Any}())"
      ]
     },
     "execution_count": 8,
     "metadata": {},
     "output_type": "execute_result"
    }
   ],
   "source": [
    "insert_data = SQLite.Stmt(db, \"\"\"\n",
    "    INSERT INTO materials\n",
    "    VALUES (\"1.4462\", \"2205\", \"Duplex stainless steel\", 500, 800);\n",
    "\"\"\")"
   ]
  },
  {
   "cell_type": "code",
   "execution_count": 9,
   "metadata": {},
   "outputs": [
    {
     "data": {
      "text/plain": [
       "101"
      ]
     },
     "execution_count": 9,
     "metadata": {},
     "output_type": "execute_result"
    }
   ],
   "source": [
    "SQLite.execute!(insert_data)"
   ]
  },
  {
   "cell_type": "code",
   "execution_count": 12,
   "metadata": {},
   "outputs": [
    {
     "data": {
      "text/html": [
       "<table class=\"data-frame\"><thead><tr><th></th><th>name</th><th>alias</th><th>description</th><th>Re</th><th>Rm</th></tr><tr><th></th><th>String⍰</th><th>String⍰</th><th>String⍰</th><th>Float64⍰</th><th>Float64⍰</th></tr></thead><tbody><p>1 rows × 5 columns</p><tr><th>1</th><td>1.4462</td><td>2205</td><td>Duplex stainless steel</td><td>500.0</td><td>800.0</td></tr></tbody></table>"
      ],
      "text/latex": [
       "\\begin{tabular}{r|ccccc}\n",
       "\t& name & alias & description & Re & Rm\\\\\n",
       "\t\\hline\n",
       "\t& String⍰ & String⍰ & String⍰ & Float64⍰ & Float64⍰\\\\\n",
       "\t\\hline\n",
       "\t1 & 1.4462 & 2205 & Duplex stainless steel & 500.0 & 800.0 \\\\\n",
       "\\end{tabular}\n"
      ],
      "text/plain": [
       "1×5 DataFrame\n",
       "│ Row │ name    │ alias   │ description            │ Re       │ Rm       │\n",
       "│     │ \u001b[90mString⍰\u001b[39m │ \u001b[90mString⍰\u001b[39m │ \u001b[90mUnion{Missing, String}\u001b[39m │ \u001b[90mFloat64⍰\u001b[39m │ \u001b[90mFloat64⍰\u001b[39m │\n",
       "├─────┼─────────┼─────────┼────────────────────────┼──────────┼──────────┤\n",
       "│ 1   │ 1.4462  │ 2205    │ Duplex stainless steel │ 500.0    │ 800.0    │"
      ]
     },
     "execution_count": 12,
     "metadata": {},
     "output_type": "execute_result"
    }
   ],
   "source": [
    "a = SQLite.Query(db, \"SELECT * FROM materials;\") |> DataFrame"
   ]
  },
  {
   "cell_type": "code",
   "execution_count": 14,
   "metadata": {},
   "outputs": [
    {
     "data": {
      "text/html": [
       "<table class=\"data-frame\"><thead><tr><th></th><th>name</th><th>alias</th><th>description</th><th>Re</th><th>Rm</th></tr><tr><th></th><th>String⍰</th><th>String⍰</th><th>String⍰</th><th>Float64⍰</th><th>Float64⍰</th></tr></thead><tbody><p>1 rows × 5 columns</p><tr><th>1</th><td>1.4462</td><td>2205</td><td>Duplex stainless steel</td><td>550.0</td><td>800.0</td></tr></tbody></table>"
      ],
      "text/latex": [
       "\\begin{tabular}{r|ccccc}\n",
       "\t& name & alias & description & Re & Rm\\\\\n",
       "\t\\hline\n",
       "\t& String⍰ & String⍰ & String⍰ & Float64⍰ & Float64⍰\\\\\n",
       "\t\\hline\n",
       "\t1 & 1.4462 & 2205 & Duplex stainless steel & 550.0 & 800.0 \\\\\n",
       "\\end{tabular}\n"
      ],
      "text/plain": [
       "1×5 DataFrame\n",
       "│ Row │ name    │ alias   │ description            │ Re       │ Rm       │\n",
       "│     │ \u001b[90mString⍰\u001b[39m │ \u001b[90mString⍰\u001b[39m │ \u001b[90mUnion{Missing, String}\u001b[39m │ \u001b[90mFloat64⍰\u001b[39m │ \u001b[90mFloat64⍰\u001b[39m │\n",
       "├─────┼─────────┼─────────┼────────────────────────┼──────────┼──────────┤\n",
       "│ 1   │ 1.4462  │ 2205    │ Duplex stainless steel │ 550.0    │ 800.0    │"
      ]
     },
     "execution_count": 14,
     "metadata": {},
     "output_type": "execute_result"
    }
   ],
   "source": [
    "change_data = SQLite.Stmt(db, \"\"\"\n",
    "    UPDATE materials\n",
    "    SET Re = 550\n",
    "    WHERE name = 1.4462;\n",
    "\"\"\")\n",
    "SQLite.execute!(change_data)\n",
    "\n",
    "a = SQLite.Query(db, \"SELECT * FROM materials;\") |> DataFrame"
   ]
  },
  {
   "cell_type": "code",
   "execution_count": 13,
   "metadata": {},
   "outputs": [],
   "source": [
    "#SQLite.drop!(db,\"materials\")"
   ]
  },
  {
   "cell_type": "code",
   "execution_count": null,
   "metadata": {},
   "outputs": [],
   "source": []
  }
 ],
 "metadata": {
  "kernelspec": {
   "display_name": "Julia 1.2.0",
   "language": "julia",
   "name": "julia-1.2"
  },
  "language_info": {
   "file_extension": ".jl",
   "mimetype": "application/julia",
   "name": "julia",
   "version": "1.2.0"
  }
 },
 "nbformat": 4,
 "nbformat_minor": 4
}
