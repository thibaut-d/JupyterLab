{
 "cells": [
  {
   "cell_type": "code",
   "execution_count": null,
   "metadata": {},
   "outputs": [],
   "source": [
    "using Neo4jBolt  \n",
    "using Dates     "
   ]
  },
  {
   "cell_type": "code",
   "execution_count": null,
   "metadata": {},
   "outputs": [],
   "source": [
    "driver = Neo4jBoltDriver(\"bolt://localhost:7687\", auth=(\"neo4j\", \"xxxx\"))"
   ]
  },
  {
   "cell_type": "code",
   "execution_count": null,
   "metadata": {},
   "outputs": [],
   "source": [
    "mutable struct Message\n",
    "    name::String\n",
    "    content::String\n",
    "    mod_date::Date\n",
    "end"
   ]
  },
  {
   "cell_type": "code",
   "execution_count": null,
   "metadata": {},
   "outputs": [],
   "source": [
    "   \n",
    "function write_message(tx, args, kwargs)\n",
    "    run(tx, \n",
    "        \"MERGE (m:Message {name: \\$name}) \" *\n",
    "        \"SET m.content = \\$content, m.mod_date = \\$mod_date\", \n",
    "        name=args[1].name, \n",
    "        content=args[1].content,\n",
    "        mod_date=Dates.now()\n",
    "    )\n",
    "end\n",
    "\n",
    "function read_message(tx, args, kwargs)\n",
    "    result = run(tx, \n",
    "        \"MATCH (m:Message {name: \\$name}) \" *\n",
    "        \"RETURN m\",\n",
    "        name=args[1])\n",
    "    p = value(single(result)).properties\n",
    "    return Message(p[\"name\"],p[\"content\"],p[\"mod_date\"])\n",
    "end\n",
    "\n",
    "function link_reply(tx, args, kwargs)\n",
    "     result = run(tx, \n",
    "        \"MATCH (m1:Message {name: \\$name1}) \" *\n",
    "        \"MATCH (m2:Message {name: \\$name2}) \" *\n",
    "        \"MERGE (m1)-[:REPLY]->(m2) \",\n",
    "        name1=args[1].name,\n",
    "        name2=args[2].name\n",
    "    )\n",
    "end"
   ]
  },
  {
   "cell_type": "code",
   "execution_count": null,
   "metadata": {},
   "outputs": [],
   "source": [
    "messageToWrite = Message(\"My message\",\"Hi, honey, can you get me a drink, please?\",Dates.now(Dates.UTC))\n",
    "herReply = Message(\"Her reply\",\"Of course I do, my darling. I'd do anything for you...\",Dates.now(Dates.UTC))\n",
    "\n",
    "session(driver) do sess\n",
    "    write_transaction(sess, write_message, messageToWrite)\n",
    "    myMessage = read_transaction(sess, read_message, \"My message\")\n",
    "    write_transaction(sess, write_message, herReply)\n",
    "    write_transaction(sess, link_reply, myMessage, herReply)\n",
    "end"
   ]
  }
 ],
 "metadata": {
  "kernelspec": {
   "display_name": "Julia 1.3.0",
   "language": "julia",
   "name": "julia-1.3"
  },
  "language_info": {
   "file_extension": ".jl",
   "mimetype": "application/julia",
   "name": "julia",
   "version": "1.3.0"
  }
 },
 "nbformat": 4,
 "nbformat_minor": 4
}
