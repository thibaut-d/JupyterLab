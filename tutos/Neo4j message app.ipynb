{
 "cells": [
  {
   "cell_type": "code",
   "execution_count": null,
   "metadata": {},
   "outputs": [],
   "source": [
    "using Neo4jBolt  \n",
    "using Dates     "
   ]
  },
  {
   "cell_type": "code",
   "execution_count": null,
   "metadata": {},
   "outputs": [],
   "source": [
    "driver = Neo4jBoltDriver(\"bolt://localhost:7687\", auth=(\"neo4j\", \"xxxx\"))\n",
    "sess = session(driver) "
   ]
  },
  {
   "cell_type": "code",
   "execution_count": null,
   "metadata": {},
   "outputs": [],
   "source": [
    "mutable struct Message\n",
    "    name::String\n",
    "    content::String\n",
    "    mod_date::Date\n",
    "end"
   ]
  },
  {
   "cell_type": "code",
   "execution_count": null,
   "metadata": {},
   "outputs": [],
   "source": [
    "  \n",
    "function write_message(message::Message)\n",
    "    \n",
    "    currently = Dates.now()\n",
    "    \n",
    "    begin_transaction(sess) do tx\n",
    "        run(tx, \n",
    "            \"MERGE (m:Message {name: \\$name}) \" *\n",
    "            \"SET m.content = \\$content, m.mod_date = \\$mod_date\", \n",
    "            name=message.name, \n",
    "            content=message.content,\n",
    "            mod_date=currently\n",
    "        )\n",
    "    end\n",
    "    \n",
    "end\n",
    "\n",
    "\n",
    "function read_message(name::String)\n",
    "    \n",
    "    result = nothing\n",
    "    begin_transaction(sess) do tx\n",
    "        result = run(tx, \n",
    "            \"MATCH (m:Message {name: \\$name}) \" *\n",
    "            \"RETURN m\",\n",
    "            name=name)\n",
    "    end\n",
    "    \n",
    "    p = value(single(result)).properties\n",
    "    return Message(p[\"name\"],p[\"content\"],p[\"mod_date\"])\n",
    "    \n",
    "end\n",
    "\n",
    "\n",
    "function link_reply(message1::Message,message2::Message)\n",
    "    begin_transaction(sess) do tx\n",
    "        run(tx, \n",
    "            \"MATCH (m1:Message {name: \\$name1}) \" *\n",
    "            \"MATCH (m2:Message {name: \\$name2}) \" *\n",
    "            \"MERGE (m1)-[:REPLY]->(m2) \",\n",
    "            name1=message1.name,\n",
    "            name2=message2.name\n",
    "        )\n",
    "    end\n",
    "end"
   ]
  },
  {
   "cell_type": "code",
   "execution_count": null,
   "metadata": {},
   "outputs": [],
   "source": [
    "messageToWrite = Message(\"My message\",\"Hi, honey, can you get me a drink, please?\",Dates.now(Dates.UTC))\n",
    "\n",
    "write_message(messageToWrite)"
   ]
  },
  {
   "cell_type": "code",
   "execution_count": null,
   "metadata": {},
   "outputs": [],
   "source": [
    "myMessage = read_message(\"My message\")"
   ]
  },
  {
   "cell_type": "code",
   "execution_count": null,
   "metadata": {},
   "outputs": [],
   "source": [
    "herReply = Message(\"Her reply\",\"Of course I do, my darling. I'd do anything for you...\",Dates.now(Dates.UTC))\n",
    "\n",
    "write_message(herReply)\n",
    "link_reply(myMessage,herReply)"
   ]
  },
  {
   "cell_type": "code",
   "execution_count": null,
   "metadata": {},
   "outputs": [],
   "source": [
    "close(sess)"
   ]
  }
 ],
 "metadata": {
  "kernelspec": {
   "display_name": "Julia 1.3.0",
   "language": "julia",
   "name": "julia-1.3"
  },
  "language_info": {
   "file_extension": ".jl",
   "mimetype": "application/julia",
   "name": "julia",
   "version": "1.3.0"
  }
 },
 "nbformat": 4,
 "nbformat_minor": 4
}
