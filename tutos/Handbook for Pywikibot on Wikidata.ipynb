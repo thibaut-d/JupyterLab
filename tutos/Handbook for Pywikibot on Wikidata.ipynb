{
 "cells": [
  {
   "cell_type": "markdown",
   "metadata": {},
   "source": [
    "This handbook is a summary of https://m.wikidata.org/wiki/Wikidata:Pywikibot_-_Python_3_Tutorial with some parts taken to other tutorials. It is build for quick reference. It is recommanded to read the tutorials before using it. These tutorials are released under Creative Commons Attribution-ShareAlike License. Feel free to copy and adapt the Notebook under this licence.\n",
    "\n",
    "\n",
    "# I/ Initialization\n",
    "\n",
    "Import Pywikibot and set the site to work on."
   ]
  },
  {
   "cell_type": "code",
   "execution_count": null,
   "metadata": {},
   "outputs": [],
   "source": [
    "import pywikibot\n",
    "\n",
    "wikidata_site = pywikibot.Site(\"wikidata\", \"wikidata\")\n",
    "wikidata_repo = wikidata_site.data_repository()"
   ]
  },
  {
   "cell_type": "markdown",
   "metadata": {},
   "source": [
    "# II/ Modifiying a textual page\n",
    "\n",
    "This manipulation is available on all Wikis. It let modify a simple text page. Not an item."
   ]
  },
  {
   "cell_type": "code",
   "execution_count": null,
   "metadata": {},
   "outputs": [],
   "source": [
    "page = pywikibot.Page(wikidata_site, 'Wikidata:WikiProject_Materials/Test')\n",
    "page.exists()"
   ]
  },
  {
   "cell_type": "code",
   "execution_count": null,
   "metadata": {
    "scrolled": true
   },
   "outputs": [],
   "source": [
    "page.text"
   ]
  },
  {
   "cell_type": "code",
   "execution_count": null,
   "metadata": {},
   "outputs": [],
   "source": [
    "page.text = 'Hello world !!!'\n",
    "page.save(u\"Testing Pywikibot (sandbox page)\") #Beware, this replace all the content !"
   ]
  },
  {
   "cell_type": "code",
   "execution_count": null,
   "metadata": {},
   "outputs": [],
   "source": [
    "page.text"
   ]
  },
  {
   "cell_type": "markdown",
   "metadata": {},
   "source": [
    "# III/ The \"ItemPage\" class\n",
    "\n",
    "ItemClass are Pywikibot object that store Wikidata items data."
   ]
  },
  {
   "cell_type": "code",
   "execution_count": null,
   "metadata": {},
   "outputs": [],
   "source": [
    "item = pywikibot.ItemPage(wikidata_repo, \"Q2225\")\n",
    "print(item)\n",
    "\n",
    "print('\\nItemsPage are Pywikibot objects:')\n",
    "print(type(item))\n",
    "item"
   ]
  },
  {
   "cell_type": "code",
   "execution_count": null,
   "metadata": {},
   "outputs": [],
   "source": [
    "# Showing methods for this object\n",
    "dir(item)"
   ]
  },
  {
   "cell_type": "code",
   "execution_count": null,
   "metadata": {},
   "outputs": [],
   "source": [
    "#Methods to print the title and properties\n",
    "print('\\nitem.title() = ' + str(item.title()))\n",
    "print('\\nitem.properties() = ' + str(item.properties()))"
   ]
  },
  {
   "cell_type": "code",
   "execution_count": null,
   "metadata": {},
   "outputs": [],
   "source": [
    "# The get() method unpack the data of the item\n",
    "item_dict = item.get()\n",
    "print('get() provide a: '+ str(type(item_dict))+'\\n')\n",
    "item_dict"
   ]
  },
  {
   "cell_type": "code",
   "execution_count": null,
   "metadata": {},
   "outputs": [],
   "source": [
    " # Go to the claim dictionary\n",
    "clm_dict = item_dict[\"claims\"]\n",
    "clm_dict"
   ]
  },
  {
   "cell_type": "code",
   "execution_count": null,
   "metadata": {},
   "outputs": [],
   "source": [
    "#Focus on a specific property's claims list\n",
    "clm_list = clm_dict[\"P2069\"]\n",
    "print(clm_list)"
   ]
  },
  {
   "cell_type": "code",
   "execution_count": null,
   "metadata": {},
   "outputs": [],
   "source": [
    "#Get general data\n",
    "repo = wikidata_site.data_repository()  # this is a DataSite object\n",
    "item = pywikibot.ItemPage(repo, 'Q42')  # This will be functionally the same as the other item we defined\n",
    "item.get()  # you need to call it to access any data.\n",
    "sitelinks = item.sitelinks\n",
    "aliases = item.aliases\n",
    "if 'en' in item.labels:\n",
    "    print('The label in English is: ' + item.labels['en'])\n",
    "if item.claims:\n",
    "    if 'P31' in item.claims: # instance of\n",
    "        print(item.claims['P31'][0].getTarget())\n",
    "        print(item.claims['P31'][0].sources[0])  # let's just assume it has sources."
   ]
  },
  {
   "cell_type": "markdown",
   "metadata": {},
   "source": [
    "# IV / The \"Claim\" class\n",
    "\n",
    "A Pywikibot object that store Wikidata claims"
   ]
  },
  {
   "cell_type": "code",
   "execution_count": null,
   "metadata": {},
   "outputs": [],
   "source": [
    "#For each claim in the claim list get the content of the claim\n",
    "\n",
    "for clm in clm_list:\n",
    "    print(clm.toJSON())\n",
    "    \n",
    "    print('\\nThe claim is another Pywikibot object:')\n",
    "    print(type(clm))\n",
    "    \n",
    "    print('\\nThe claim has several methods:')\n",
    "    print(dir(clm))\n",
    "    \n",
    "    print('\\nclm.rank = ' + str(clm.rank))\n",
    "    print('\\nclm.id = ' + str(clm.id))\n",
    "    print('\\nclm.isReference = ' + str(clm.isReference))\n",
    "    print('\\nclm.snak = ' + str(clm.snak))\n",
    "    print('\\nclm.on_item = ' + str(clm.on_item))\n",
    "    "
   ]
  },
  {
   "cell_type": "markdown",
   "metadata": {},
   "source": [
    "# V / The target classes\n",
    "\n",
    "These are Pywikibot object that store Wikidata claims's target.\n",
    "\n",
    "There is actually several classes depending on the datatype. Herabove a WbQuantity object that represent a quantity with an upper and a lower bound."
   ]
  },
  {
   "cell_type": "code",
   "execution_count": null,
   "metadata": {},
   "outputs": [],
   "source": [
    "#Claim's target is the value of the property\n",
    "for clm in clm_list:\n",
    "    \n",
    "    print('\\nFocus on a claim\\'s target using getTarget() method:')\n",
    "    clm_trgt = clm.getTarget()\n",
    "    print(clm_trgt)\n",
    "    \n",
    "    print('\\nTarget type is:')\n",
    "    print(type(clm_trgt))\n",
    "    \n",
    "    print('\\nTarget class\\'s methods are:')\n",
    "    print(dir(clm_trgt))\n",
    "    \n",
    "    print('\\nclm_trgt.amount = ' + str(clm_trgt.amount))\n",
    "    print('\\nclm_trgt.unit = '+ str(clm_trgt.unit))"
   ]
  },
  {
   "cell_type": "markdown",
   "metadata": {},
   "source": [
    "# VI/ Selecting Item by Wikidata Statement\n",
    "\n",
    "This is the method to select items using a SPARQL query."
   ]
  },
  {
   "cell_type": "code",
   "execution_count": null,
   "metadata": {},
   "outputs": [],
   "source": [
    "from pywikibot import pagegenerators as pg\n",
    "\n",
    "with open('pka-query.rq', 'r') as query_file: #The Query is stored in a separated file.\n",
    "    QUERY = query_file.read()\n",
    "    print('The content of pka-query.rq is:\\n\\n'+QUERY)\n",
    "\n",
    "wikidata_site = pywikibot.Site(\"wikidata\", \"wikidata\")\n",
    "generator = pg.WikidataSPARQLPageGenerator(QUERY, site=wikidata_site)\n",
    "\n",
    "print('\\n\\nItems in the generator are:')\n",
    "for item in generator:\n",
    "    print(item)"
   ]
  },
  {
   "cell_type": "markdown",
   "metadata": {},
   "source": [
    "It is of course possible to pass arguments in the string :"
   ]
  },
  {
   "cell_type": "code",
   "execution_count": null,
   "metadata": {},
   "outputs": [],
   "source": [
    "property = 'P1117'\n",
    "\n",
    "QUERY2 = f'''\n",
    "SELECT ?item ?value\n",
    "WHERE \n",
    "{{\n",
    "  ?item wdt:{property} ?value .\n",
    "}}\n",
    "'''\n",
    "\n",
    "generator2 = pg.WikidataSPARQLPageGenerator(QUERY2, site=wikidata_site)\n",
    "\n",
    "print('Items in the generator are:')\n",
    "for item in generator2:\n",
    "    print(item)"
   ]
  },
  {
   "cell_type": "markdown",
   "metadata": {},
   "source": [
    "# VII/ Using the sandbox wikidata site for tests\n",
    "\n",
    "We will use the sandbox site on https://test.wikidata.org/wiki/Q194617"
   ]
  },
  {
   "cell_type": "code",
   "execution_count": null,
   "metadata": {},
   "outputs": [],
   "source": [
    "site = pywikibot.Site(\"test\", \"wikidata\")\n",
    "repo = site.data_repository()\n",
    "item = pywikibot.ItemPage(repo, \"Q194617\")"
   ]
  },
  {
   "cell_type": "markdown",
   "metadata": {},
   "source": [
    "# VIII/ Changing labels, descriptions and alias\n",
    "\n",
    "We can use specific Pywikibot functions :"
   ]
  },
  {
   "cell_type": "code",
   "execution_count": null,
   "metadata": {},
   "outputs": [],
   "source": [
    "new_labels = {\"en\": \"bear2\", \"de\": \"Bär2\"}\n",
    "new_descr = {\"en\": \"gentle creature of the forrest2\", \"de\": \"Friedlicher Waldbewohner2\"}\n",
    "new_alias = {\"en\": [\"brown bear2\", \"grizzly bear2\", \"polar bear2\"], \"de\": [\"Braunbär2\", \"Grizzlybär2\", \"Eisbär2\"]}\n",
    "item.editLabels(labels=new_labels, summary=\"Setting new labels2.\")\n",
    "item.editDescriptions(new_descr, summary=\"Setting new descriptions2.\")\n",
    "item.editAliases(new_alias, summary=\"Setting new aliases2.\")"
   ]
  },
  {
   "cell_type": "markdown",
   "metadata": {},
   "source": [
    "Or we can use the general editEntity() function :"
   ]
  },
  {
   "cell_type": "code",
   "execution_count": null,
   "metadata": {},
   "outputs": [],
   "source": [
    "data = {\"labels\": {\"en\": \"bear\", \"de\": \"Bär\"},\n",
    "  \"descriptions\": {\"en\": \"gentle creature of the forrest\", \"de\": \"Friedlicher Waldbewohner\"},\n",
    "       \"aliases\": {\"en\": [\"brown bear\", \"grizzly bear\", \"polar bear\"], \"de\": [\"Braunbär\", \"Grizzlybär\", \"Eisbär\"]},\n",
    "     \"sitelinks\": [{\"site\": \"enwiki\", \"title\": \"Bear\"}, {\"site\": \"dewiki\", \"title\": \"Bär\"}]}\n",
    "item.editEntity(data, summary=u'Edited item: set labels, descriptions, aliases')"
   ]
  },
  {
   "cell_type": "markdown",
   "metadata": {},
   "source": [
    "# IX/ Changing claims\n",
    "\n",
    "In this example, we will change a propery \"color\" wrongly set to homonymes.\n",
    "\n",
    "Beware that it is a real example, modifying the real Wikidata."
   ]
  },
  {
   "cell_type": "code",
   "execution_count": null,
   "metadata": {},
   "outputs": [],
   "source": [
    "import pywikibot\n",
    "from pywikibot import pagegenerators as pg\n",
    "\n",
    "wikidata_site = pywikibot.Site(\"wikidata\", \"wikidata\")\n",
    "wikidata_repo = wikidata_site.data_repository()\n",
    "\n",
    "property = \"P462\" # The property \"Color\" that is to be settled to an item representing a color.\n",
    "\n",
    "#The error dict has homonymes as keys and colors as values.\n",
    "#The, items having the color property set a key have to be changed for the value.\n",
    "error_dict = {\"Q13191\": \"Q39338\",    #orange - \"fruit\": \"color\"\n",
    "              \"Q897\": \"Q208045\",     #gold - \"element\": \"color\"\n",
    "              \"Q753\": \"Q2722041\",   #copper - \"element\": \"color\"\n",
    "              \"Q25381\": \"Q679355\",   #amber - \"material\": \"color\"\n",
    "              \"Q134862\": \"Q5069879\", #champagne - \"drink\": \"color\"\n",
    "              \"Q1090\": \"Q317802\",    #silver - \"element\": \"color\"\n",
    "              \"Q1173\": \"Q797446\",    #burgundy - \"region\": \"color\n",
    "              \"Q13411121\": \"Q5148721\", #peach - \"fruit\": \"color\"\n",
    "              }\n",
    "\n",
    "def correct_claim(generator, key):\n",
    "    '''This function call call a generator result to find a list of items having\n",
    "    the color property setted to a key, that represent an homonyme.'''\n",
    "    for page in generator:\n",
    "        item_dict = page.get()  #calling the dictionary containing all the values of the item.\n",
    "        claim_list = item_dict[\"claims\"][property] #calling the claims related the color property (variable settled above)\n",
    "        for claim in claim_list:\n",
    "            trgt = claim.getTarget()\n",
    "            if trgt.id == key: #if a claim target is settled to a key of the errors dictionary\n",
    "                print(f'Correcting {key} to {error_dict[key]}')\n",
    "                correct_page = pywikibot.ItemPage(wikidata_repo, error_dict[key], 0) #gettting the right value for the property from the error dict\n",
    "                claim.changeTarget(correct_page) #changing the target to the right value\n",
    "\n",
    "for key in error_dict:\n",
    "    query = f'''\n",
    "    SELECT ?item\n",
    "    WHERE \n",
    "    {{\n",
    "      ?item wdt:{property} wd:{key} .\n",
    "     }}\n",
    "    ''' #calls items having color settle to an homonyme.\n",
    "    generator = pg.WikidataSPARQLPageGenerator(query, site=wikidata_site)  #a generator store these items\n",
    "    generator = wikidata_site.preloadpages(generator, pageprops=True) #improves performance ?\n",
    "    correct_claim(generator, key)\n",
    "    "
   ]
  },
  {
   "cell_type": "markdown",
   "metadata": {},
   "source": [
    "# X/ Adding claims\n",
    "\n",
    "**This advanced code create a full claim with a quantity ± uncertainity and sources :**"
   ]
  },
  {
   "cell_type": "code",
   "execution_count": null,
   "metadata": {},
   "outputs": [],
   "source": [
    "import pywikibot\n",
    "from pywikibot.data import api\n",
    "import pprint\n",
    "\n",
    "# FIXME Hardcoded for test.wikidata\n",
    "# Define properties and data\n",
    "p_stated_in = \"P149\"\n",
    "p_half_life = \"P525\"\n",
    "p_ref_url = \"P93\"\n",
    "precision = 10 ** -10\n",
    "# data = [quantity, uncertainty, unit (Q1748 = hours)]\n",
    "# source = [stated in item, ref url]\n",
    "half_life_data = {\"uranium-240\": {\"data\": [\"14.1\", \"0.1\", \"Q1748\"],\n",
    "                                  \"source\": [\"Q1751\", \"http://www.nndc.bnl.gov/chart/reCenter.jsp?z=92&n=148\"]}\n",
    "                  }\n",
    "\n",
    "site = pywikibot.Site(\"test\", \"wikidata\") #Please only modify the test site unless you know what you do !\n",
    "repo = site.data_repository()\n",
    "\n",
    "def get_items(site, item_title):\n",
    "    \"\"\"\n",
    "    Requires a site and search term (item_title) and returns the results.\n",
    "    \"\"\"\n",
    "    params = {\"action\": \"wbsearchentities\",\n",
    "              \"format\": \"json\",\n",
    "              \"language\": \"en\",\n",
    "              \"type\": \"item\",\n",
    "              \"search\": item_title}\n",
    "    request = api.Request(site=site, **params)\n",
    "    return request.submit()\n",
    "\n",
    "def check_claim_and_uncert(item, property, data):\n",
    "    \"\"\"\n",
    "    Requires a property, value, uncertainty and unit and returns boolean.\n",
    "    Returns the claim that fits into the defined precision or None.\n",
    "    This will be used to see if the claim is already settled\n",
    "    \"\"\"\n",
    "    item_dict = item.get()\n",
    "    value, uncert, unit = data\n",
    "    value, uncert = float(value), float(uncert)\n",
    "    try:\n",
    "        claims = item_dict[\"claims\"][property]\n",
    "    except:\n",
    "        return None\n",
    "\n",
    "    try:\n",
    "        claim_exists = False\n",
    "        uncert_set = False\n",
    "        for claim in claims:\n",
    "            wb_quant = claim.getTarget()\n",
    "            delta_amount = wb_quant.amount - value\n",
    "            if abs(delta_amount) < precision:\n",
    "                claim_exists = True\n",
    "            delta_lower = wb_quant.amount - wb_quant.lowerBound\n",
    "            delta_upper = wb_quant.upperBound - wb_quant.amount\n",
    "            check_lower = abs(uncert - delta_lower) < precision\n",
    "            check_upper = abs(delta_upper - uncert) < precision\n",
    "            if check_upper and check_lower:\n",
    "                uncert_set = True\n",
    "\n",
    "            if claim_exists and uncert_set:\n",
    "                return claim\n",
    "    except:\n",
    "        return None\n",
    "\n",
    "def check_source_set(claim, property, data):\n",
    "    \"\"\"\n",
    "    Takes a claim, a property and data.\n",
    "    Return a boolean\n",
    "    This will be used to see if the property is already settled\n",
    "    \"\"\"\n",
    "    source_claims = claim.getSources()\n",
    "    if len(source_claims) == 0:\n",
    "        return False #if there is no sources, return false\n",
    "\n",
    "    for source in source_claims:\n",
    "        try:\n",
    "            stated_in_claim = source[p_stated_in] #check if the property \"stated in\" is set\n",
    "        except:\n",
    "            return False #if not, we can create a new reference\n",
    "        for claim in stated_in_claim:\n",
    "            trgt = claim.target\n",
    "            if trgt.id == data[0]:\n",
    "                return True # return true only if the claim exists and is settled accoding to our import dataset\n",
    "\n",
    "def set_claim(item, property, data):\n",
    "    \"\"\"\n",
    "    Set the claim's property according to our import data\n",
    "    \"\"\"\n",
    "    value, uncert, unit = data #get these variables for our import data\n",
    "    value, uncert = float(value), float(uncert)\n",
    "    claim = pywikibot.Claim(repo, property) #create a claim object with wanted property\n",
    "    unit_item = pywikibot.ItemPage(repo, unit) #create a unit item object with wanted unit\n",
    "    entity_helper_string = \"http://test.wikidata.org/entity/Q1748\".format()\n",
    "    wb_quant = pywikibot.WbQuantity(value, entity_helper_string, uncert) #create a quantity object with wanted quantity\n",
    "    claim.setTarget(wb_quant) #modify the created claim object and add quantity\n",
    "    \n",
    "    item.addClaim(claim, bot=False, summary=\"Adding half-life claim from NNDC.\") #by the end we can add the claim object in the item\n",
    "    \n",
    "    print('Running set_claim...\\n   On item: ' + str(item) + '\\n   Setting claim:\\n' + str(claim) + '\\n')\n",
    "    \n",
    "    return claim\n",
    "\n",
    "def create_source_claim(claim, source_data):\n",
    "    trgt_item, ref_url = source_data\n",
    "    trgt_itempage = pywikibot.ItemPage(repo, trgt_item) #create an item object for the source\n",
    "    source_claim = pywikibot.Claim(repo, p_stated_in, isReference=True) #create the claim object for the source\n",
    "    source_claim.setTarget(trgt_itempage) #set the item source object as a target for the claim object\n",
    "    \n",
    "    claim.addSources([source_claim]) #by the end we can add the source to the claim\n",
    "    \n",
    "    print('Running create_source_claim...\\n\\n   On claim :\\n' + str(claim) + '\\n\\n   Setting source:\\n' + str(source_claim) + '\\n')\n",
    "    \n",
    "    return True\n",
    "\n",
    "for key in half_life_data: #since there is actually only 1 key in our example the loop will run once\n",
    "    search_results = get_items(site, key)\n",
    "    print('Value of search_result is:\\n' + str(search_results) + '\\n')\n",
    "    if len(search_results[\"search\"]) == 1: #only one item shall match the search term (uranium-240)\n",
    "        item = pywikibot.ItemPage(repo, search_results[\"search\"][0][\"id\"]) #we will modifiy this item\n",
    "        print('Value of item from results is:' + str(item) + '\\n')\n",
    "        data = half_life_data[key][\"data\"] #getting the value of the property from the data we want to import\n",
    "        print('Value of data is:' + str(data) + '\\n')\n",
    "        source_data = half_life_data[key][\"source\"] #getting the value of the source of the property from the data we want to import\n",
    "        print('Value of source_data is:' + str(source_data) + '\\n')\n",
    "\n",
    "        claim = check_claim_and_uncert(item, p_half_life, data) #check if our claim is already settled correctly in wikidata\n",
    "        print('Value of claim from check_claim_and_uncert is : ' + str(claim) + '\\n')\n",
    "        if claim: # if the claim already exist, we will check if the source exists too and create it if not \n",
    "            source = check_source_set(claim, key, source_data)\n",
    "            print('Value of source is: ' + str(source) + '\\n')\n",
    "            if source:\n",
    "                pass\n",
    "            else:\n",
    "                create_source_claim(claim, source_data)\n",
    "        else: #if the claim does not exists, we will create it with source\n",
    "            claim = set_claim(item, p_half_life, data)\n",
    "            create_source_claim(claim, source_data)\n",
    "            \n",
    "    else: #only one item shall match the search term (uranium-240). If more, the program don't know wich one to settle.\n",
    "        print(\"No result or too many found for {}.\", key)\n"
   ]
  },
  {
   "cell_type": "markdown",
   "metadata": {},
   "source": [
    "# XI/ Code templates\n",
    "\n",
    "These are code templates for copy past. It has already be described above."
   ]
  },
  {
   "cell_type": "code",
   "execution_count": null,
   "metadata": {},
   "outputs": [],
   "source": [
    "# Typical generator to iterate over a SPARQL query\n",
    "\n",
    "import pywikibot\n",
    "from pywikibot import pagegenerators as pg\n",
    "\n",
    "with open('pka-query.rq', 'r') as query_file:\n",
    "    QUERY = query_file.read()\n",
    "\n",
    "wikidata_site = pywikibot.Site(\"wikidata\", \"wikidata\")\n",
    "generator = pg.WikidataSPARQLPageGenerator(QUERY, site=wikidata_site)\n",
    "\n",
    "print('Items in the generator are:')\n",
    "for item in generator:\n",
    "    print(item)"
   ]
  },
  {
   "cell_type": "code",
   "execution_count": null,
   "metadata": {},
   "outputs": [],
   "source": [
    "#Create Items\n",
    "\n",
    "import pywikibot\n",
    "site = pywikibot.Site(\"test\", \"wikidata\")\n",
    "\n",
    "def create_item(site, label_dict):\n",
    "    new_item = pywikibot.ItemPage(site)\n",
    "    new_item.editLabels(labels=label_dict, summary=\"Setting labels\")\n",
    "    # Add description here or in another function\n",
    "    return new_item.getID()\n",
    "\n",
    "some_labels = {\"en\": \"Hamburg Main Station\", \"de\": \"Hamburg Hauptbahnhof\"}\n",
    "new_item_id = create_item(site, some_labels)"
   ]
  },
  {
   "cell_type": "code",
   "execution_count": null,
   "metadata": {},
   "outputs": [],
   "source": []
  }
 ],
 "metadata": {
  "kernelspec": {
   "display_name": "Python 3",
   "language": "python",
   "name": "python3"
  },
  "language_info": {
   "codemirror_mode": {
    "name": "ipython",
    "version": 3
   },
   "file_extension": ".py",
   "mimetype": "text/x-python",
   "name": "python",
   "nbconvert_exporter": "python",
   "pygments_lexer": "ipython3",
   "version": "3.6.7"
  }
 },
 "nbformat": 4,
 "nbformat_minor": 2
}
