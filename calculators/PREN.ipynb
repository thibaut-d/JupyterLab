{
 "cells": [
  {
   "cell_type": "code",
   "execution_count": 3,
   "metadata": {},
   "outputs": [],
   "source": [
    "mutable struct Mat\n",
    "    C::Float64\n",
    "    Cr::Float64\n",
    "    Mo::Float64\n",
    "    W::Float64\n",
    "    N::Float64\n",
    "end"
   ]
  },
  {
   "cell_type": "code",
   "execution_count": 39,
   "metadata": {},
   "outputs": [
    {
     "data": {
      "text/plain": [
       "cpren (generic function with 1 method)"
      ]
     },
     "execution_count": 39,
     "metadata": {},
     "output_type": "execute_result"
    }
   ],
   "source": [
    "# Official PREN definition, use only at iso-Carbone.\n",
    "function pren(m)\n",
    "     m.Cr + 3.3 * ( m.Mo + 0.5 * m.W ) + 16 * m.N\n",
    "end\n",
    "\n",
    "# Empirical formula taking into account Carbon.\n",
    "function cpren(m)\n",
    "     (m.Cr + 3.3 * ( m.Mo + 0.5 * m.W ) + 16 * m.N) / log(5,m.C + 1)\n",
    "end"
   ]
  },
  {
   "cell_type": "code",
   "execution_count": null,
   "metadata": {},
   "outputs": [],
   "source": [
    "mat1 = Mat(0.4,15.5,2,0,0.2)\n",
    "mat2 = Mat(0.3,15,1,0,0.4)"
   ]
  },
  {
   "cell_type": "code",
   "execution_count": 40,
   "metadata": {},
   "outputs": [
    {
     "data": {
      "text/plain": [
       "2-element Array{Float64,1}:\n",
       " 25.3              \n",
       " 24.700000000000003"
      ]
     },
     "execution_count": 40,
     "metadata": {},
     "output_type": "execute_result"
    }
   ],
   "source": [
    "[pren(mat1),pren(mat2)]"
   ]
  },
  {
   "cell_type": "code",
   "execution_count": 41,
   "metadata": {},
   "outputs": [
    {
     "data": {
      "text/plain": [
       "2-element Array{Float64,1}:\n",
       " 121.0167578563765\n",
       " 151.518792080192 "
      ]
     },
     "execution_count": 41,
     "metadata": {},
     "output_type": "execute_result"
    }
   ],
   "source": [
    "[cpren(mat1),cpren(mat2)]"
   ]
  }
 ],
 "metadata": {
  "kernelspec": {
   "display_name": "Julia 1.2.0",
   "language": "julia",
   "name": "julia-1.2"
  },
  "language_info": {
   "file_extension": ".jl",
   "mimetype": "application/julia",
   "name": "julia",
   "version": "1.2.0"
  }
 },
 "nbformat": 4,
 "nbformat_minor": 4
}